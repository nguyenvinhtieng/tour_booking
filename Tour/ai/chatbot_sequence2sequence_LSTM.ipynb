{
  "cells": [
    {
      "cell_type": "code",
      "execution_count": null,
      "metadata": {
        "execution": {
          "iopub.execute_input": "2022-05-19T04:05:50.865746Z",
          "iopub.status.busy": "2022-05-19T04:05:50.865224Z",
          "iopub.status.idle": "2022-05-19T04:05:50.870482Z",
          "shell.execute_reply": "2022-05-19T04:05:50.869820Z",
          "shell.execute_reply.started": "2022-05-19T04:05:50.865658Z"
        },
        "id": "tGKo4jlBz7Hz",
        "trusted": true
      },
      "outputs": [],
      "source": [
        "# https://www.youtube.com/watch?v=CSpsB4_-5WQ\n",
        "# https://github.com/dredwardhyde/Seq2Seq-Chatbot-English/blob/master/chatbot_big.py"
      ]
    },
    {
      "cell_type": "markdown",
      "metadata": {
        "id": "_WpSgN-7z7H2"
      },
      "source": [
        "# Sequence2Sequence - Mô hình LSTM"
      ]
    },
    {
      "cell_type": "code",
      "execution_count": null,
      "metadata": {
        "execution": {
          "iopub.execute_input": "2022-05-19T04:06:00.287893Z",
          "iopub.status.busy": "2022-05-19T04:06:00.287605Z",
          "iopub.status.idle": "2022-05-19T04:06:02.752634Z",
          "shell.execute_reply": "2022-05-19T04:06:02.751817Z",
          "shell.execute_reply.started": "2022-05-19T04:06:00.287844Z"
        },
        "id": "s8CRgGNdz7H6",
        "outputId": "3f84d00e-1bf6-48c4-a856-a32331344b05",
        "trusted": true
      },
      "outputs": [
        {
          "ename": "",
          "evalue": "",
          "output_type": "error",
          "traceback": [
            "\u001b[1;31mFailed to start the Kernel. \n",
            "Unable to start Kernel 'Python 3.10.2 64-bit' due to connection timeout. \n",
            "View Jupyter <a href='command:jupyter.viewOutput'>log</a> for further details."
          ]
        }
      ],
      "source": [
        "import re\n",
        "import numpy as np\n",
        "import pandas as pd\n",
        "import matplotlib.pyplot as plt\n",
        "\n",
        "from collections import Counter\n",
        "\n",
        "from underthesea import word_tokenize \n",
        "\n",
        "from keras import Input, Model\n",
        "from keras.layers import Embedding, LSTM, Dense\n",
        "from keras_preprocessing.text import Tokenizer\n",
        "from keras_preprocessing.sequence import pad_sequences\n",
        "\n",
        "from tensorflow.keras.utils import to_categorical\n",
        "from tensorflow.keras.optimizers import RMSprop\n",
        "\n",
        "import warnings\n",
        "warnings.filterwarnings(\"ignore\")"
      ]
    },
    {
      "cell_type": "markdown",
      "metadata": {
        "id": "m85Nht96z7H8"
      },
      "source": [
        "# Tiền xử lý dữ liệu"
      ]
    },
    {
      "cell_type": "code",
      "execution_count": null,
      "metadata": {
        "execution": {
          "iopub.execute_input": "2022-05-19T04:06:02.755330Z",
          "iopub.status.busy": "2022-05-19T04:06:02.755039Z",
          "iopub.status.idle": "2022-05-19T04:06:02.792211Z",
          "shell.execute_reply": "2022-05-19T04:06:02.791533Z",
          "shell.execute_reply.started": "2022-05-19T04:06:02.755293Z"
        },
        "id": "Ha9Wle5qz7H8",
        "outputId": "01a90729-f6d6-4a79-d430-1a519679db5b",
        "trusted": true
      },
      "outputs": [
        {
          "data": {
            "text/html": [
              "<div>\n",
              "<style scoped>\n",
              "    .dataframe tbody tr th:only-of-type {\n",
              "        vertical-align: middle;\n",
              "    }\n",
              "\n",
              "    .dataframe tbody tr th {\n",
              "        vertical-align: top;\n",
              "    }\n",
              "\n",
              "    .dataframe thead th {\n",
              "        text-align: right;\n",
              "    }\n",
              "</style>\n",
              "<table border=\"1\" class=\"dataframe\">\n",
              "  <thead>\n",
              "    <tr style=\"text-align: right;\">\n",
              "      <th></th>\n",
              "      <th>user_a</th>\n",
              "      <th>user_b</th>\n",
              "    </tr>\n",
              "  </thead>\n",
              "  <tbody>\n",
              "    <tr>\n",
              "      <th>0</th>\n",
              "      <td>Thích mẫu người nào</td>\n",
              "      <td>Dễ thương, tóc dài, da trắng</td>\n",
              "    </tr>\n",
              "    <tr>\n",
              "      <th>1</th>\n",
              "      <td>Có crush ai không</td>\n",
              "      <td>Có 1 bạn cùng lớp</td>\n",
              "    </tr>\n",
              "    <tr>\n",
              "      <th>2</th>\n",
              "      <td>Tại sao lại thích bạn dó</td>\n",
              "      <td>Vì đáp ứng những yêu cầu của tao</td>\n",
              "    </tr>\n",
              "    <tr>\n",
              "      <th>3</th>\n",
              "      <td>Có hay nói chuyện không</td>\n",
              "      <td>Hay nhắn tin messenger</td>\n",
              "    </tr>\n",
              "    <tr>\n",
              "      <th>4</th>\n",
              "      <td>Bạn kia có bắt chuyện trước không</td>\n",
              "      <td>Có đôi khi</td>\n",
              "    </tr>\n",
              "    <tr>\n",
              "      <th>...</th>\n",
              "      <td>...</td>\n",
              "      <td>...</td>\n",
              "    </tr>\n",
              "    <tr>\n",
              "      <th>7389</th>\n",
              "      <td>Uầy vậy anh em mình có nên đi thể dục thể thao...</td>\n",
              "      <td>Vậy mày định rủ tao đi tập gì.</td>\n",
              "    </tr>\n",
              "    <tr>\n",
              "      <th>7390</th>\n",
              "      <td>Tao thấy bộ môn đó khá được ưa chuộng và còn n...</td>\n",
              "      <td>Mày xem các dân tổ đua xe nhiều quá nên ảo rồi...</td>\n",
              "    </tr>\n",
              "    <tr>\n",
              "      <th>7391</th>\n",
              "      <td>Đùa tí thôi tao tính rủ mày đi học võ bro.</td>\n",
              "      <td>Được nè. Tao khá thích taekwondo nhe.</td>\n",
              "    </tr>\n",
              "    <tr>\n",
              "      <th>7392</th>\n",
              "      <td>Tao sẽ học lên đai đen để về sút vào mấy thằng...</td>\n",
              "      <td>Oke mày là nhất :))</td>\n",
              "    </tr>\n",
              "    <tr>\n",
              "      <th>7393</th>\n",
              "      <td>Tao biết chỗ rồi, bây giờ tao đăng kí cho mày ...</td>\n",
              "      <td>Oke luôn bạn ơi</td>\n",
              "    </tr>\n",
              "  </tbody>\n",
              "</table>\n",
              "<p>7394 rows × 2 columns</p>\n",
              "</div>"
            ],
            "text/plain": [
              "                                                 user_a  \\\n",
              "0                                   Thích mẫu người nào   \n",
              "1                                     Có crush ai không   \n",
              "2                              Tại sao lại thích bạn dó   \n",
              "3                               Có hay nói chuyện không   \n",
              "4                     Bạn kia có bắt chuyện trước không   \n",
              "...                                                 ...   \n",
              "7389  Uầy vậy anh em mình có nên đi thể dục thể thao...   \n",
              "7390  Tao thấy bộ môn đó khá được ưa chuộng và còn n...   \n",
              "7391         Đùa tí thôi tao tính rủ mày đi học võ bro.   \n",
              "7392  Tao sẽ học lên đai đen để về sút vào mấy thằng...   \n",
              "7393  Tao biết chỗ rồi, bây giờ tao đăng kí cho mày ...   \n",
              "\n",
              "                                                 user_b  \n",
              "0                          Dễ thương, tóc dài, da trắng  \n",
              "1                                     Có 1 bạn cùng lớp  \n",
              "2                      Vì đáp ứng những yêu cầu của tao  \n",
              "3                                Hay nhắn tin messenger  \n",
              "4                                            Có đôi khi  \n",
              "...                                                 ...  \n",
              "7389                     Vậy mày định rủ tao đi tập gì.  \n",
              "7390  Mày xem các dân tổ đua xe nhiều quá nên ảo rồi...  \n",
              "7391              Được nè. Tao khá thích taekwondo nhe.  \n",
              "7392                                Oke mày là nhất :))  \n",
              "7393                                    Oke luôn bạn ơi  \n",
              "\n",
              "[7394 rows x 2 columns]"
            ]
          },
          "execution_count": 2,
          "metadata": {},
          "output_type": "execute_result"
        }
      ],
      "source": [
        "# load data\n",
        "df = pd.read_csv('./chatbot-data.csv', usecols=[1,2])\n",
        "df"
      ]
    },
    {
      "cell_type": "code",
      "execution_count": null,
      "metadata": {
        "execution": {
          "iopub.execute_input": "2022-05-19T04:06:02.794288Z",
          "iopub.status.busy": "2022-05-19T04:06:02.793891Z",
          "iopub.status.idle": "2022-05-19T04:06:02.799132Z",
          "shell.execute_reply": "2022-05-19T04:06:02.798366Z",
          "shell.execute_reply.started": "2022-05-19T04:06:02.794252Z"
        },
        "id": "gyw4fdENz7H9",
        "trusted": true
      },
      "outputs": [],
      "source": [
        "# lấy ra Questions và Answers\n",
        "data_questions = df['user_a'].values\n",
        "data_answers = df['user_b'].values"
      ]
    },
    {
      "cell_type": "code",
      "execution_count": null,
      "metadata": {
        "execution": {
          "iopub.execute_input": "2022-05-19T04:06:02.801177Z",
          "iopub.status.busy": "2022-05-19T04:06:02.800342Z",
          "iopub.status.idle": "2022-05-19T04:06:02.808563Z",
          "shell.execute_reply": "2022-05-19T04:06:02.807877Z",
          "shell.execute_reply.started": "2022-05-19T04:06:02.801129Z"
        },
        "id": "IODVl3OPz7H9",
        "trusted": true
      },
      "outputs": [],
      "source": [
        "# hàm để xóa các ký tự đặc biệt\n",
        "def clean_text(sent):\n",
        "    return re.sub(r'[!“”\"#$%&\\'()*+,-./:;<=>?@[\\]^_`{|}~]', '', sent)\n",
        "\n",
        "# hàm để chuyển Word Segmentation cho tiếng Việt\n",
        "def clean_and_word_segmentation(sent):\n",
        "    return word_tokenize(clean_text(sent.lower()), format='text')"
      ]
    },
    {
      "cell_type": "code",
      "execution_count": null,
      "metadata": {
        "execution": {
          "iopub.execute_input": "2022-05-19T04:06:02.810427Z",
          "iopub.status.busy": "2022-05-19T04:06:02.809966Z",
          "iopub.status.idle": "2022-05-19T04:06:03.268935Z",
          "shell.execute_reply": "2022-05-19T04:06:03.268253Z",
          "shell.execute_reply.started": "2022-05-19T04:06:02.810392Z"
        },
        "id": "LBPjzhpiz7H-",
        "outputId": "afa53dd0-63c5-4629-b06c-e39a463e882c",
        "trusted": true
      },
      "outputs": [
        {
          "data": {
            "image/png": "[encoded data removed]",
            "text/plain": [
              "<Figure size 1080x720 with 1 Axes>"
            ]
          },
          "metadata": {
            "needs_background": "light"
          },
          "output_type": "display_data"
        }
      ],
      "source": [
        "# vẽ biểu đồ thể hiện trực quan số lượng từ trong các questions\n",
        "count_words_ques = [len(clean_text(ques).split()) for ques in data_questions]\n",
        "counter_words_ques = Counter(count_words_ques)\n",
        "\n",
        "list_count_word = []\n",
        "list_count_sent = []\n",
        "for i in counter_words_ques.items():\n",
        "    #print(i)\n",
        "    list_count_word.append(i[0])\n",
        "    list_count_sent.append(i[1])\n",
        "    \n",
        "# ========== draw ========== #\n",
        "plt.figure(figsize=(15,10))\n",
        "plt.bar(list_count_word,list_count_sent)\n",
        "plt.title('The graph shows the number of words in sentences')\n",
        "plt.xlabel('Number of words in a sentence')\n",
        "plt.ylabel('Number of sentences')\n",
        "plt.xticks(range(min(list_count_word), max(list_count_word),2))\n",
        "plt.show()"
      ]
    },
    {
      "cell_type": "code",
      "execution_count": null,
      "metadata": {
        "execution": {
          "iopub.execute_input": "2022-05-19T04:06:03.270805Z",
          "iopub.status.busy": "2022-05-19T04:06:03.270396Z",
          "iopub.status.idle": "2022-05-19T04:06:03.276881Z",
          "shell.execute_reply": "2022-05-19T04:06:03.276169Z",
          "shell.execute_reply.started": "2022-05-19T04:06:03.270766Z"
        },
        "id": "-jmmRMgDz7H-",
        "outputId": "eba88b0e-c213-4b39-c0a2-4f0cb44b7326",
        "trusted": true
      },
      "outputs": [
        {
          "data": {
            "text/plain": [
              "(7394, 7394)"
            ]
          },
          "execution_count": 6,
          "metadata": {},
          "output_type": "execute_result"
        }
      ],
      "source": [
        "len(count_words_ques), len(data_questions)"
      ]
    },
    {
      "cell_type": "code",
      "execution_count": null,
      "metadata": {
        "execution": {
          "iopub.execute_input": "2022-05-19T04:06:03.278836Z",
          "iopub.status.busy": "2022-05-19T04:06:03.278128Z",
          "iopub.status.idle": "2022-05-19T04:06:03.294327Z",
          "shell.execute_reply": "2022-05-19T04:06:03.293356Z",
          "shell.execute_reply.started": "2022-05-19T04:06:03.278798Z"
        },
        "id": "3QXRa8swz7H_",
        "outputId": "bda963aa-0e1c-43b2-88fa-fe2cfd79c6a5",
        "trusted": true
      },
      "outputs": [
        {
          "name": "stdout",
          "output_type": "stream",
          "text": [
            "len sorted_ques: 7256\n",
            "len sorted_ans: 7256\n"
          ]
        },
        {
          "data": {
            "text/plain": [
              "(['Thích mẫu người nào', 'Có crush ai không'],\n",
              " ['Dễ thương, tóc dài, da trắng', 'Có 1 bạn cùng lớp'])"
            ]
          },
          "execution_count": 7,
          "metadata": {},
          "output_type": "execute_result"
        }
      ],
      "source": [
        "# loại bỏ những câu có số lượng từ > 15 từ\n",
        "sorted_ques = []\n",
        "sorted_ans = []\n",
        "for i,count in enumerate(count_words_ques):\n",
        "    if count <= 15:\n",
        "        sorted_ques.append(data_questions[i])\n",
        "        sorted_ans.append(data_answers[i])\n",
        "        \n",
        "print('len sorted_ques:', len(sorted_ques))\n",
        "print('len sorted_ans:', len(sorted_ans))\n",
        "sorted_ques[:2], sorted_ans[:2]"
      ]
    },
    {
      "cell_type": "code",
      "execution_count": null,
      "metadata": {
        "execution": {
          "iopub.execute_input": "2022-05-19T04:06:03.296508Z",
          "iopub.status.busy": "2022-05-19T04:06:03.295946Z",
          "iopub.status.idle": "2022-05-19T04:06:06.533555Z",
          "shell.execute_reply": "2022-05-19T04:06:06.532697Z",
          "shell.execute_reply.started": "2022-05-19T04:06:03.296444Z"
        },
        "id": "-4og7ljDz7H_",
        "outputId": "c2efaf7b-2021-4059-f08f-50ad9c5281f7",
        "trusted": true
      },
      "outputs": [
        {
          "data": {
            "text/plain": [
              "(['thích mẫu người nào', 'có crush ai không'],\n",
              " ['<START> dễ_thương tóc dài da trắng <END>',\n",
              "  '<START> có 1 bạn cùng lớp <END>'])"
            ]
          },
          "execution_count": 8,
          "metadata": {},
          "output_type": "execute_result"
        }
      ],
      "source": [
        "# làm sạch và Word Segmentation cho sorted_ques và sorted_ans\n",
        "questions = [clean_and_word_segmentation(ques) for ques in sorted_ques]\n",
        "answers = ['<START> '+ clean_and_word_segmentation(answ) + ' <END>' for answ in sorted_ans]\n",
        "\n",
        "questions[:2], answers[:2]"
      ]
    },
    {
      "cell_type": "code",
      "execution_count": null,
      "metadata": {
        "execution": {
          "iopub.execute_input": "2022-05-19T04:06:06.538150Z",
          "iopub.status.busy": "2022-05-19T04:06:06.537462Z",
          "iopub.status.idle": "2022-05-19T04:06:06.751362Z",
          "shell.execute_reply": "2022-05-19T04:06:06.750504Z",
          "shell.execute_reply.started": "2022-05-19T04:06:06.538107Z"
        },
        "id": "5MdUnxcrz7IA",
        "trusted": true
      },
      "outputs": [],
      "source": [
        "# tokenize cho questions và answers\n",
        "tokenizer = Tokenizer(filters='', lower=False)  # filters='' do dữ liệu đã được làm sạch và giữ lại word segmention\n",
        "tokenizer.fit_on_texts(questions + answers)"
      ]
    },
    {
      "cell_type": "code",
      "execution_count": null,
      "metadata": {
        "id": "2Vd7V0qQz7IA"
      },
      "outputs": [],
      "source": [
        "# for word_index in tokenizer.word_index.items():\n",
        "#     print(word_index)"
      ]
    },
    {
      "cell_type": "code",
      "execution_count": null,
      "metadata": {
        "execution": {
          "iopub.execute_input": "2022-05-19T04:06:06.756453Z",
          "iopub.status.busy": "2022-05-19T04:06:06.755902Z",
          "iopub.status.idle": "2022-05-19T04:06:06.765782Z",
          "shell.execute_reply": "2022-05-19T04:06:06.765112Z",
          "shell.execute_reply.started": "2022-05-19T04:06:06.756413Z"
        },
        "id": "8A6ZJ5RMz7IB",
        "outputId": "04e425ca-9d2c-4291-a003-503bd1b2b388",
        "trusted": true
      },
      "outputs": [
        {
          "name": "stdout",
          "output_type": "stream",
          "text": [
            "Vocabulary size : 4384\n"
          ]
        }
      ],
      "source": [
        "VOCAB_SIZE = len(tokenizer.word_index) + 1\n",
        "print(f'Vocabulary size : {VOCAB_SIZE}')"
      ]
    },
    {
      "cell_type": "code",
      "execution_count": null,
      "metadata": {
        "id": "3PAZlYRfz7IB",
        "outputId": "0947d577-a192-4499-9b1d-e2d68cbb757a"
      },
      "outputs": [
        {
          "data": {
            "text/plain": [
              "(7256,)"
            ]
          },
          "execution_count": 11,
          "metadata": {},
          "output_type": "execute_result"
        }
      ],
      "source": [
        "np.shape(questions)"
      ]
    },
    {
      "cell_type": "code",
      "execution_count": null,
      "metadata": {
        "execution": {
          "iopub.execute_input": "2022-05-19T04:06:06.773812Z",
          "iopub.status.busy": "2022-05-19T04:06:06.771780Z",
          "iopub.status.idle": "2022-05-19T04:06:06.893705Z",
          "shell.execute_reply": "2022-05-19T04:06:06.893019Z",
          "shell.execute_reply.started": "2022-05-19T04:06:06.773776Z"
        },
        "id": "BA8OHBGpz7IB",
        "outputId": "032e11f7-7104-4763-cf31-2bd92c735fce",
        "trusted": true
      },
      "outputs": [
        {
          "name": "stdout",
          "output_type": "stream",
          "text": [
            "(7256, 15)\n",
            "['thích mẫu người nào', 'có crush ai không', 'tại_sao lại thích bạn dó', 'có hay nói_chuyện không', 'bạn kia có bắt_chuyện trước không']\n",
            "[[12, 294, 35, 13], [4, 108, 47, 3], [337, 165, 12, 6, 1717], [4, 22, 804, 3], [6, 445, 4, 1382, 235, 3]]\n",
            "[[  12  294   35   13    0    0    0    0    0    0    0    0    0    0\n",
            "     0]\n",
            " [   4  108   47    3    0    0    0    0    0    0    0    0    0    0\n",
            "     0]\n",
            " [ 337  165   12    6 1717    0    0    0    0    0    0    0    0    0\n",
            "     0]\n",
            " [   4   22  804    3    0    0    0    0    0    0    0    0    0    0\n",
            "     0]\n",
            " [   6  445    4 1382  235    3    0    0    0    0    0    0    0    0\n",
            "     0]]\n"
          ]
        }
      ],
      "source": [
        "# encoder\n",
        "tokenized_questions = tokenizer.texts_to_sequences(questions)\n",
        "maxlen_questions = 15\n",
        "encoder_inp = pad_sequences(tokenized_questions,maxlen=maxlen_questions,padding='post')\n",
        "\n",
        "print(encoder_inp.shape)\n",
        "print(questions[:5])\n",
        "print(tokenized_questions[:5])\n",
        "print(encoder_inp[:5])"
      ]
    },
    {
      "cell_type": "code",
      "execution_count": null,
      "metadata": {
        "execution": {
          "iopub.execute_input": "2022-05-19T04:06:06.899666Z",
          "iopub.status.busy": "2022-05-19T04:06:06.897714Z",
          "iopub.status.idle": "2022-05-19T04:06:07.034356Z",
          "shell.execute_reply": "2022-05-19T04:06:07.033681Z",
          "shell.execute_reply.started": "2022-05-19T04:06:06.899626Z"
        },
        "id": "IpXed1Ygz7IC",
        "outputId": "b0dafdc5-8bc5-4146-dfa2-259c9091ca91",
        "trusted": true
      },
      "outputs": [
        {
          "name": "stdout",
          "output_type": "stream",
          "text": [
            "(7256, 43)\n",
            "<START> dễ_thương tóc dài da trắng <END>\n",
            "[1, 341, 1138, 454, 2112, 620, 2]\n",
            "[   1  341 1138  454 2112  620    2    0    0    0    0    0    0    0\n",
            "    0    0    0    0    0    0    0    0    0    0    0    0    0    0\n",
            "    0    0    0    0    0    0    0    0    0    0    0    0    0    0\n",
            "    0]\n"
          ]
        }
      ],
      "source": [
        "# decoder\n",
        "tokenized_answers = tokenizer.texts_to_sequences(answers)\n",
        "maxlen_answers = np.max([len(x) for x in tokenized_answers])\n",
        "decoder_inp = pad_sequences(tokenized_answers, maxlen=maxlen_answers, padding='post')\n",
        "\n",
        "print(decoder_inp.shape)\n",
        "print(answers[0])\n",
        "print(tokenized_answers[0])\n",
        "print(decoder_inp[0])"
      ]
    },
    {
      "cell_type": "code",
      "execution_count": null,
      "metadata": {
        "execution": {
          "iopub.execute_input": "2022-05-19T04:06:07.040086Z",
          "iopub.status.busy": "2022-05-19T04:06:07.038194Z",
          "iopub.status.idle": "2022-05-19T04:06:07.801136Z",
          "shell.execute_reply": "2022-05-19T04:06:07.800335Z",
          "shell.execute_reply.started": "2022-05-19T04:06:07.040034Z"
        },
        "id": "4kk2hlMOz7IC",
        "outputId": "87a8909f-9481-4343-e0f2-e692a78000b5",
        "trusted": true
      },
      "outputs": [
        {
          "name": "stdout",
          "output_type": "stream",
          "text": [
            "(7256, 43, 4384)\n",
            "[341, 1138, 454, 2112, 620, 2]\n",
            "[ 341 1138  454 2112  620    2    0    0    0    0    0    0    0    0\n",
            "    0    0    0    0    0    0    0    0    0    0    0    0    0    0\n",
            "    0    0    0    0    0    0    0    0    0    0    0    0    0    0\n",
            "    0]\n",
            "(7256, 43, 4384)\n"
          ]
        }
      ],
      "source": [
        "for i in range(len(tokenized_answers)):\n",
        "    tokenized_answers[i] = tokenized_answers[i][1:]\n",
        "    \n",
        "padded_answers = pad_sequences(tokenized_answers, maxlen=maxlen_answers, padding='post')\n",
        "decoder_final_output = to_categorical(padded_answers, VOCAB_SIZE)\n",
        "\n",
        "print(decoder_final_output.shape)\n",
        "print(tokenized_answers[0])\n",
        "print(padded_answers[0])\n",
        "print(decoder_final_output.shape)"
      ]
    },
    {
      "cell_type": "code",
      "execution_count": null,
      "metadata": {
        "id": "uxmBL8qtz7IC",
        "outputId": "a6d11eb7-6e6e-4006-fb93-11f78b0af60b"
      },
      "outputs": [
        {
          "data": {
            "text/plain": [
              "4384"
            ]
          },
          "execution_count": 15,
          "metadata": {},
          "output_type": "execute_result"
        }
      ],
      "source": [
        "VOCAB_SIZE"
      ]
    },
    {
      "cell_type": "code",
      "execution_count": null,
      "metadata": {
        "execution": {
          "iopub.execute_input": "2022-05-19T04:06:07.802525Z",
          "iopub.status.busy": "2022-05-19T04:06:07.802264Z",
          "iopub.status.idle": "2022-05-19T04:06:10.551895Z",
          "shell.execute_reply": "2022-05-19T04:06:10.551117Z",
          "shell.execute_reply.started": "2022-05-19T04:06:07.802472Z"
        },
        "id": "zmF3U6Wuz7ID",
        "trusted": true
      },
      "outputs": [],
      "source": [
        "enc_inputs = Input(shape=(None,))\n",
        "enc_embedding = Embedding(VOCAB_SIZE, 200, mask_zero=True)(enc_inputs)\n",
        "_, state_h, state_c = LSTM(200, return_state=True)(enc_embedding)\n",
        "enc_states = [state_h, state_c]\n",
        "\n",
        "dec_inputs = Input(shape=(None,))\n",
        "dec_embedding = Embedding(VOCAB_SIZE, 200, mask_zero=True)(dec_inputs)\n",
        "dec_lstm = LSTM(200, return_state=True, return_sequences=True)\n",
        "\n",
        "dec_outputs, _, _ = dec_lstm(dec_embedding, initial_state=enc_states)\n",
        "dec_dense = Dense(VOCAB_SIZE, activation='softmax')\n",
        "output = dec_dense(dec_outputs)"
      ]
    },
    {
      "cell_type": "code",
      "execution_count": null,
      "metadata": {
        "execution": {
          "iopub.execute_input": "2022-05-19T04:06:10.553625Z",
          "iopub.status.busy": "2022-05-19T04:06:10.553353Z",
          "iopub.status.idle": "2022-05-19T04:06:10.579608Z",
          "shell.execute_reply": "2022-05-19T04:06:10.578892Z",
          "shell.execute_reply.started": "2022-05-19T04:06:10.553588Z"
        },
        "id": "9lcJaaM2z7ID",
        "outputId": "0e40a3db-abcf-4e9c-d6dd-44bc6b83f881",
        "trusted": true
      },
      "outputs": [
        {
          "name": "stdout",
          "output_type": "stream",
          "text": [
            "Model: \"model\"\n",
            "__________________________________________________________________________________________________\n",
            " Layer (type)                   Output Shape         Param #     Connected to                     \n",
            "==================================================================================================\n",
            " input_1 (InputLayer)           [(None, None)]       0           []                               \n",
            "                                                                                                  \n",
            " input_2 (InputLayer)           [(None, None)]       0           []                               \n",
            "                                                                                                  \n",
            " embedding (Embedding)          (None, None, 200)    876800      ['input_1[0][0]']                \n",
            "                                                                                                  \n",
            " embedding_1 (Embedding)        (None, None, 200)    876800      ['input_2[0][0]']                \n",
            "                                                                                                  \n",
            " lstm (LSTM)                    [(None, 200),        320800      ['embedding[0][0]']              \n",
            "                                 (None, 200),                                                     \n",
            "                                 (None, 200)]                                                     \n",
            "                                                                                                  \n",
            " lstm_1 (LSTM)                  [(None, None, 200),  320800      ['embedding_1[0][0]',            \n",
            "                                 (None, 200),                     'lstm[0][1]',                   \n",
            "                                 (None, 200)]                     'lstm[0][2]']                   \n",
            "                                                                                                  \n",
            " dense (Dense)                  (None, None, 4384)   881184      ['lstm_1[0][0]']                 \n",
            "                                                                                                  \n",
            "==================================================================================================\n",
            "Total params: 3,276,384\n",
            "Trainable params: 3,276,384\n",
            "Non-trainable params: 0\n",
            "__________________________________________________________________________________________________\n"
          ]
        }
      ],
      "source": [
        "model = Model([enc_inputs, dec_inputs], output)\n",
        "model.compile(optimizer=RMSprop(), loss='categorical_crossentropy')\n",
        "model.summary()"
      ]
    },
    {
      "cell_type": "code",
      "execution_count": null,
      "metadata": {
        "execution": {
          "iopub.execute_input": "2022-05-19T04:06:10.582011Z",
          "iopub.status.busy": "2022-05-19T04:06:10.581748Z",
          "iopub.status.idle": "2022-05-19T04:29:54.188463Z",
          "shell.execute_reply": "2022-05-19T04:29:54.187700Z",
          "shell.execute_reply.started": "2022-05-19T04:06:10.581976Z"
        },
        "id": "Hjh4vm71z7ID",
        "outputId": "21d70ef2-a5ff-4e1b-e437-ee57539907c6",
        "trusted": true
      },
      "outputs": [
        {
          "name": "stdout",
          "output_type": "stream",
          "text": [
            "Epoch 1/10\n",
            "73/73 [==============================] - 98s 1s/step - loss: 0.6918\n",
            "Epoch 2/10\n",
            "73/73 [==============================] - 77s 1s/step - loss: 0.5898\n",
            "Epoch 3/10\n",
            "73/73 [==============================] - 90s 1s/step - loss: 0.5691\n",
            "Epoch 4/10\n",
            "73/73 [==============================] - 82s 1s/step - loss: 0.5548\n",
            "Epoch 5/10\n",
            "73/73 [==============================] - 76s 1s/step - loss: 0.5407\n",
            "Epoch 6/10\n",
            "73/73 [==============================] - 80s 1s/step - loss: 0.5269\n",
            "Epoch 7/10\n",
            "73/73 [==============================] - 84s 1s/step - loss: 0.5139\n",
            "Epoch 8/10\n",
            "73/73 [==============================] - 81s 1s/step - loss: 0.5019\n",
            "Epoch 9/10\n",
            "73/73 [==============================] - 86s 1s/step - loss: 0.4903\n",
            "Epoch 10/10\n",
            "73/73 [==============================] - 80s 1s/step - loss: 0.4792\n"
          ]
        }
      ],
      "source": [
        "model.fit([encoder_inp, decoder_inp],\n",
        "           decoder_final_output,\n",
        "           batch_size=100,\n",
        "           epochs=10)\n",
        "model.save('sequence2sequence_lstm.h5')"
      ]
    },
    {
      "cell_type": "code",
      "execution_count": null,
      "metadata": {
        "id": "43e2qBOv0XuO"
      },
      "outputs": [],
      "source": [
        "import pickle\n",
        "pickle.dump(model, open('chatbot.sav','wb'))"
      ]
    },
    {
      "cell_type": "code",
      "execution_count": null,
      "metadata": {
        "execution": {
          "iopub.execute_input": "2022-05-19T04:29:54.189908Z",
          "iopub.status.busy": "2022-05-19T04:29:54.189650Z",
          "iopub.status.idle": "2022-05-19T04:29:54.878025Z",
          "shell.execute_reply": "2022-05-19T04:29:54.877273Z",
          "shell.execute_reply.started": "2022-05-19T04:29:54.189862Z"
        },
        "id": "-NgRysaLz7IE",
        "outputId": "12717220-8380-4f17-df95-a40f7be82d06",
        "trusted": true
      },
      "outputs": [
        {
          "name": "stdout",
          "output_type": "stream",
          "text": [
            "Inference decoder:\n",
            "Model: \"model_1\"\n",
            "__________________________________________________________________________________________________\n",
            " Layer (type)                   Output Shape         Param #     Connected to                     \n",
            "==================================================================================================\n",
            " input_2 (InputLayer)           [(None, None)]       0           []                               \n",
            "                                                                                                  \n",
            " embedding_1 (Embedding)        (None, None, 200)    876800      ['input_2[0][0]']                \n",
            "                                                                                                  \n",
            " input_3 (InputLayer)           [(None, 200)]        0           []                               \n",
            "                                                                                                  \n",
            " input_4 (InputLayer)           [(None, 200)]        0           []                               \n",
            "                                                                                                  \n",
            " lstm_1 (LSTM)                  [(None, None, 200),  320800      ['embedding_1[0][0]',            \n",
            "                                 (None, 200),                     'input_3[0][0]',                \n",
            "                                 (None, 200)]                     'input_4[0][0]']                \n",
            "                                                                                                  \n",
            " dense (Dense)                  (None, None, 4384)   881184      ['lstm_1[1][0]']                 \n",
            "                                                                                                  \n",
            "==================================================================================================\n",
            "Total params: 2,078,784\n",
            "Trainable params: 2,078,784\n",
            "Non-trainable params: 0\n",
            "__________________________________________________________________________________________________\n",
            "Inference encoder:\n",
            "Model: \"model_2\"\n",
            "_________________________________________________________________\n",
            " Layer (type)                Output Shape              Param #   \n",
            "=================================================================\n",
            " input_1 (InputLayer)        [(None, None)]            0         \n",
            "                                                                 \n",
            " embedding (Embedding)       (None, None, 200)         876800    \n",
            "                                                                 \n",
            " lstm (LSTM)                 [(None, 200),             320800    \n",
            "                              (None, 200),                       \n",
            "                              (None, 200)]                       \n",
            "                                                                 \n",
            "=================================================================\n",
            "Total params: 1,197,600\n",
            "Trainable params: 1,197,600\n",
            "Non-trainable params: 0\n",
            "_________________________________________________________________\n"
          ]
        }
      ],
      "source": [
        "def make_inference_models():\n",
        "    dec_state_input_h = Input(shape=(200,))\n",
        "    dec_state_input_c = Input(shape=(200,))\n",
        "    dec_states_inputs = [dec_state_input_h, dec_state_input_c]\n",
        "    dec_outputs, state_h, state_c = dec_lstm(dec_embedding,\n",
        "                                            initial_state=dec_states_inputs)\n",
        "    dec_states = [state_h, state_c]\n",
        "    dec_outputs = dec_dense(dec_outputs)\n",
        "    dec_model = Model(\n",
        "        inputs=[dec_inputs] + dec_states_inputs,\n",
        "        outputs = [dec_outputs] + dec_states)\n",
        "    print('Inference decoder:')\n",
        "    dec_model.summary()\n",
        "    print('Inference encoder:')\n",
        "    enc_model = Model(inputs=enc_inputs, outputs=enc_states)\n",
        "    enc_model.summary()\n",
        "    return enc_model, dec_model\n",
        "\n",
        "def str_to_tokens(sentence):\n",
        "    #words = sentence.lower().split()\n",
        "    words = clean_and_word_segmentation(sentence).split()\n",
        "    tokens_list = list()\n",
        "    for current_word in words:\n",
        "        result = tokenizer.word_index.get(current_word)\n",
        "        if result != '':\n",
        "            tokens_list.append(result)\n",
        "    return pad_sequences([tokens_list], maxlen=maxlen_questions,padding='post')\n",
        "\n",
        "enc_model, dec_model = make_inference_models()"
      ]
    },
    {
      "cell_type": "code",
      "execution_count": null,
      "metadata": {
        "execution": {
          "iopub.execute_input": "2022-05-19T04:29:54.879534Z",
          "iopub.status.busy": "2022-05-19T04:29:54.879260Z",
          "iopub.status.idle": "2022-05-19T04:29:54.893439Z",
          "shell.execute_reply": "2022-05-19T04:29:54.892512Z",
          "shell.execute_reply.started": "2022-05-19T04:29:54.879495Z"
        },
        "id": "uSnhNJyNz7IE",
        "trusted": true
      },
      "outputs": [],
      "source": [
        "def chatbot(input):\n",
        "    print('Bot: Xin chào!')\n",
        "    \n",
        "    while True:\n",
        "        input_question = input\n",
        "    \n",
        "        if input_question == '':\n",
        "            print('Bot answer: bye')\n",
        "            break\n",
        "        states_values = enc_model.predict(str_to_tokens(input_question))\n",
        "        empty_target_seq = np.zeros((1,1))\n",
        "        empty_target_seq[0,0] = tokenizer.word_index['<START>']\n",
        "        stop_condition = False\n",
        "        decoded_translation = ''\n",
        "        while not stop_condition:\n",
        "            dec_outputs, h, c = dec_model.predict([empty_target_seq]+states_values)\n",
        "            sampled_word_index = np.argmax(dec_outputs[0,-1, :])\n",
        "            sampled_word = None\n",
        "            for word, index in tokenizer.word_index.items():\n",
        "                if sampled_word_index == index:\n",
        "                    if word != '<END>':\n",
        "                        decoded_translation += f'{word} '\n",
        "                    sampled_word = word\n",
        "\n",
        "            if sampled_word == '<END>' or len(decoded_translation.split()) > maxlen_answers:\n",
        "                stop_condition = True\n",
        "            empty_target_seq = np.zeros((1,1))\n",
        "            empty_target_seq[0,0] = sampled_word_index\n",
        "            states_values = [h,c]\n",
        "        print('User: ',input_question)\n",
        "        print('Bot answer:', decoded_translation, '\\n')"
      ]
    },
    {
      "cell_type": "code",
      "execution_count": null,
      "metadata": {
        "execution": {
          "iopub.execute_input": "2022-05-19T04:29:54.896860Z",
          "iopub.status.busy": "2022-05-19T04:29:54.896632Z",
          "iopub.status.idle": "2022-05-19T04:35:08.052376Z",
          "shell.execute_reply": "2022-05-19T04:35:08.051656Z",
          "shell.execute_reply.started": "2022-05-19T04:29:54.896825Z"
        },
        "id": "YGE0d8G3z7IF",
        "outputId": "df5f0dd8-0911-472c-aca5-37c4c49a1cfa",
        "trusted": true
      },
      "outputs": [
        {
          "name": "stdout",
          "output_type": "stream",
          "text": [
            "Bot: Xin chào!\n",
            "User:  tên gì\n",
            "Bot answer: hùng  \n",
            "\n",
            "User:  có học đại học không\n",
            "Bot answer: có  \n",
            "\n",
            "User:  có ở kí túc xá trường không?\n",
            "Bot answer: có  \n",
            "\n",
            "User:  trường ở đâu\n",
            "Bot answer: quận 7  \n",
            "\n",
            "User:  học mấy năm rồi?\n",
            "Bot answer: 2 năm  \n",
            "\n",
            "User:  cao nhiêu?\n",
            "Bot answer: 1 m7  \n",
            "\n",
            "Bot answer: bye\n"
          ]
        }
      ],
      "source": [
        "# chat with bot\n",
        "chatbot()"
      ]
    },
    {
      "cell_type": "code",
      "execution_count": null,
      "metadata": {
        "id": "a3lop7oVpaRz"
      },
      "outputs": [],
      "source": [
        "enc_model.save(\"enc_model.h5\")\n",
        "dec_model.save(\"dec_model.h5\")"
      ]
    },
    {
      "cell_type": "code",
      "execution_count": null,
      "metadata": {
        "id": "Iu8duWG8piR_"
      },
      "outputs": [],
      "source": [
        "# enc_model = keras.models.load_model(\"./enc_model.h5\")\n",
        "# dec_model =  keras.models.load_model(\"./dec_model.h5\")"
      ]
    },
    {
      "cell_type": "code",
      "execution_count": null,
      "metadata": {
        "id": "8-SWQf6cpi7C"
      },
      "outputs": [],
      "source": [
        "pickle.dump(tokenizer.word_index, open(\"tokenizer_word_index.sav\", \"wb\"))"
      ]
    },
    {
      "cell_type": "code",
      "execution_count": null,
      "metadata": {
        "id": "9gIduLOhp81k"
      },
      "outputs": [],
      "source": [
        "pickle.dump(maxlen_answers, open(\"maxlen_answers.sav\", \"wb\"))"
      ]
    }
  ],
  "metadata": {
    "colab": {
      "provenance": []
    },
    "interpreter": {
      "hash": "a568c93b4c30704bcfc6354a8f9f0b414cb29a99ddf437e4b5853f43be4fcd25"
    },
    "kernelspec": {
      "display_name": "Python 3.10.2 64-bit",
      "language": "python",
      "name": "python3"
    },
    "language_info": {
      "codemirror_mode": {
        "name": "ipython",
        "version": 3
      },
      "file_extension": ".py",
      "mimetype": "text/x-python",
      "name": "python",
      "nbconvert_exporter": "python",
      "pygments_lexer": "ipython3",
      "version": "3.10.2"
    }
  },
  "nbformat": 4,
  "nbformat_minor": 0
}
